{
 "cells": [
  {
   "cell_type": "markdown",
   "metadata": {},
   "source": [
    "# Quantum Teleportation qBraid Challenge\n",
    "Quantum teleportation is a technique for transferring quantum information from a sender at one location to a receiver some distance away. \n",
    "In this challenge you and your team are tasked to develop a Quantum Teleportation circuit in Amazon Braket. You'll make the quantum teleportation circuit and then use our qBraid-SDK to transpile it to various other quantum computing languages and run it on some backends!\n",
    "\n",
    "While not necessarily coding intensive, we'd like to see plenty of extensions\n",
    "\n",
    "Before you get started make sure that:\n",
    "\n",
    "- You've enabled your qBraid Amazon Braket account. `qbraid enable account qbraid_sdk`\n",
    "- You've activated the qBraid-SDK environment and are using the qBraid-SDK Python 3 kernel (on the top right you should see **Python 3 [qBraid-SDK]**)\n",
    "- *Please copy this file and rename it <team_name>\\_quantum_teleportation.ipynb*- we'd like to avoid merge conflicts with other submissions!"
   ]
  },
  {
   "cell_type": "markdown",
   "metadata": {},
   "source": [
    "## Submission Checklist\n",
    "- Make sure to include a readme!\n",
    "- Make sure you've run or queued your solution on a real quantum computer (Rigetti M-1 perferred)\n",
    "- Get creative! We'd love to see extensions to this challenge, such as making a game, nice frontends, find interesting ways to use our sdk etc.\n",
    "\n",
    "## Judging Criteria\n",
    "- Your code must include a README.md which describes your implementation and includes how to run your solution.\n",
    "- Your code should be documented and easy to understand!\n",
    "- There are plenty of implementations on the web to guide you in better understanding Quantum Teleporation. Feel free to use them as guidance, but do code your solutions with as few out of box solutions \n",
    "    ie don't `from some_package import QuantumTeleportation`\n",
    "- Your code must run a job on real hardware using the qBraid Amazon Braket Account.\n",
    "\n"
   ]
  },
  {
   "cell_type": "markdown",
   "metadata": {},
   "source": [
    "## Challenge description\n",
    "- Implement a quantum telporation circuit and measure the results on a real quantum computer.\n",
    "- Use the qBraid-SDK to transpile the circuit to various other languages and run it on simulators and available hardware (assuming you have an account/it is accessible to you)\n",
    "- Come up with creative ways to embellish on this challenge!"
   ]
  },
  {
   "cell_type": "markdown",
   "metadata": {},
   "source": [
    "## qBraid-SDK demo\n",
    "We will provide a quick demo of the SDK here, but please also refer to the two notebooks to see how the SDK can be used to transpile your circuit"
   ]
  },
  {
   "cell_type": "code",
   "execution_count": null,
   "metadata": {
    "vscode": {
     "languageId": "plaintext"
    }
   },
   "outputs": [],
   "source": [
    "# AWS imports: Import Braket SDK modules\n",
    "from braket.circuits import Circuit, Gate, Instruction, circuit, Observable\n",
    "from braket.devices import LocalSimulator\n",
    "from braket.aws import AwsDevice, AwsQuantumTask"
   ]
  },
  {
   "cell_type": "code",
   "execution_count": null,
   "metadata": {
    "vscode": {
     "languageId": "plaintext"
    }
   },
   "outputs": [],
   "source": [
    "# YOUR CODE HERE\n",
    "from projectq.ops import All, CNOT, H, Measure, X, Z\n",
    "from projectq import MainEngine\n",
    "\n",
    "\n",
    "def create_bell_pair(quantum_engine):\n",
    "    # Qubit one is 'Alices' qubit, and will be used to create a message state\n",
    "    qubit_one = quantum_engine.allocate_qubit()\n",
    "    # Qubit two is 'Bobs' qubit, and will be used to re-create the message state\n",
    "    qubit_two = quantum_engine.allocate_qubit()\n",
    "    ''' \n",
    "    Hadamard gate to put Qubit one in superposition\n",
    "    This sets the value of a equal probability of being 1 or 0\n",
    "    '''\n",
    "    H | qubit_one\n",
    "\n",
    "    '''\n",
    "    CNOT gate to flip the second Qubit conditonally\n",
    "    on the first qubit being in the state |1⟩\n",
    "    '''\n",
    "    CNOT | (qubit_one, qubit_two)\n",
    "\n",
    "    return qubit_one, qubit_two\n",
    "\n",
    "\n",
    "'''\n",
    "The create_message function takes one of the entangled qubits as a input, \n",
    "and a message value. The message value is a bit with the value of 0 or 1. \n",
    "The message_value is then entangled with the qubit, and converted into \n",
    "two classical bits to send the data through classical channels\n",
    "'''\n",
    "\n",
    "def create_message(quantum_engine='', qubit_one='', message_value=0):\n",
    "    qubit_to_send = quantum_engine.allocate_qubit()\n",
    "    if message_value == 1:\n",
    "        '''\n",
    "        setting the qubit to positive if message_value is 1\n",
    "        by flipping the base state with a Pauli-X gate.\n",
    "        '''\n",
    "        X | qubit_to_send\n",
    "\n",
    "    # entangle the original qubit with the message qubit\n",
    "    CNOT | (qubit_to_send, qubit_one)\n",
    "\n",
    "    '''\n",
    "    1 - Put the message qubit in superposition \n",
    "    2 - Measure out the two values to get the classical bit value\n",
    "        by collapsing the state. \n",
    "    '''\n",
    "    H | qubit_to_send\n",
    "    Measure | qubit_to_send\n",
    "    Measure | qubit_one\n",
    "\n",
    "    # The qubits are now turned into normal bits we can send through classical channels\n",
    "    classical_encoded_message = [int(qubit_to_send), int(qubit_one)]\n",
    "\n",
    "    return classical_encoded_message\n",
    "\n",
    "\n",
    "'''\n",
    "The function to receive messages takes the classical encoded\n",
    "message, along with the second qubit from the Bell pair. \n",
    "Then Pauli-X and/or Pauli-Z gates are applied to the Qubit,\n",
    "conditionally on the values in the message. \n",
    "'''\n",
    "\n",
    "def message_reciever(quantum_engine, message, qubit_two):\n",
    "    '''\n",
    "    Pauli-X and/or Pauli-Z gates are applied to the Qubit,\n",
    "    conditionally on the values in the message.\n",
    "    '''\n",
    "    if message[1] == 1:\n",
    "        X | qubit_two\n",
    "    if message[0] == 1:\n",
    "        Z | qubit_two\n",
    "\n",
    "    '''\n",
    "    Measuring the Qubit and collapsing the state down to either 1 or 0\n",
    "    '''\n",
    "    Measure | qubit_two\n",
    "\n",
    "    quantum_engine.flush()\n",
    "\n",
    "    received_bit = int(qubit_two)\n",
    "    return received_bit\n",
    "\n",
    "\n",
    "def send_receive(bit=0,quantum_engine=''):\n",
    "    # Create bell pair\n",
    "    qubit_one, qubit_two = create_bell_pair(quantum_engine)\n",
    "    # entangle the bit with the first qubit\n",
    "    classical_encoded_message = create_message(quantum_engine=quantum_engine, qubit_one=qubit_one, message_value=bit)\n",
    "    # Teleport the bit and return it back\n",
    "    return message_reciever(quantum_engine, classical_encoded_message, qubit_two)\n",
    "\n",
    "\n",
    "def send_full_message(message='Quantum',quantum_engine=''):\n",
    "    # Convert the string into binary values\n",
    "    binary_encoded_message = [bin(ord(x))[2:].zfill(8) for x in message]\n",
    "    print('Message to send: ', message)\n",
    "    print('Binary message to send: ', binary_encoded_message)\n",
    "\n",
    "    '''\n",
    "    The binary message is divided into an list of each word represented in binary.\n",
    "    We iterate through each word, and then each bit in the letter.\n",
    "    Then we append the bits to an list to get back the letter representation\n",
    "    '''\n",
    "    received_bytes_list = []\n",
    "    for letter in binary_encoded_message:\n",
    "        received_bits = ''\n",
    "        for bit in letter:\n",
    "            received_bits = received_bits + str(send_receive(int(bit),quantum_engine))\n",
    "        received_bytes_list.append(received_bits)\n",
    "\n",
    "    binary_to_string = ''.join([chr(int(x, 2)) for x in received_bytes_list])\n",
    "    print('Received Binary message: ', received_bytes_list)\n",
    "    print('Received message: ', binary_to_string)\n",
    "\n",
    "\n"
   ]
  },
  {
   "cell_type": "code",
   "execution_count": null,
   "metadata": {
    "vscode": {
     "languageId": "plaintext"
    }
   },
   "outputs": [],
   "source": [
    "# run circuit \n",
    "\n",
    "# Using the simulator as quantum engine\n",
    "quantum_engine=MainEngine()\n",
    "message = (\"Secret Message\")\n",
    "send_full_message(message=message,quantum_engine=quantum_engine )\n",
    "\n",
    "# # run circuit \n",
    "# rigetti_task = rigetti.run(YOUR_CIRCUIT, shots=1000)\n",
    "\n",
    "# # get id and status of submitted task\n",
    "# rigetti_task_id = rigetti_task.id\n",
    "# rigetti_status = rigetti_task.state()\n",
    "# # print('ID of task:', rigetti_task_id)\n",
    "# print('Status of task:', rigetti_status)"
   ]
  },
  {
   "cell_type": "code",
   "execution_count": null,
   "metadata": {
    "vscode": {
     "languageId": "plaintext"
    }
   },
   "outputs": [],
   "source": [
    "# print status\n",
    "!qbraid credits\n",
    "status = rigetti_task.state()\n",
    "print('Status of (reconstructed) task:', status)"
   ]
  },
  {
   "cell_type": "markdown",
   "metadata": {},
   "source": [
    "## References\n",
    "https://en.wikipedia.org/wiki/Quantum_teleportation\n",
    "\n",
    "Furusawa, Akira. (2005). Quantum teleportation and its applications. 10.1117/12.572740. "
   ]
  }
 ],
 "metadata": {
  "kernelspec": {
   "display_name": "Qiskit v0.35.0 (ipykernel)",
   "language": "python",
   "name": "python3"
  },
  "language_info": {
   "codemirror_mode": {
    "name": "ipython",
    "version": 3
   },
   "file_extension": ".py",
   "mimetype": "text/x-python",
   "name": "python",
   "nbconvert_exporter": "python",
   "pygments_lexer": "ipython3",
   "version": "3.8.13"
  },
  "widgets": {
   "application/vnd.jupyter.widget-state+json": {
    "state": {},
    "version_major": 2,
    "version_minor": 0
   }
  }
 },
 "nbformat": 4,
 "nbformat_minor": 4
}
